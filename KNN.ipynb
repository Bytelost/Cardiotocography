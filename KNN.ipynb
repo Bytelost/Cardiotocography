{
 "cells": [
  {
   "cell_type": "markdown",
   "id": "ff06bd7f",
   "metadata": {},
   "source": [
    "## Importa as Bibliotecas e a Base de Dados"
   ]
  },
  {
   "cell_type": "code",
   "execution_count": null,
   "id": "ed3f043a-19be-43fc-b008-0b559bf97ce7",
   "metadata": {},
   "outputs": [],
   "source": [
    "# Chama as bibliotecas\n",
    "import sklearn as sk\n",
    "import numpy as np\n",
    "import pandas as pd\n",
    "import matplotlib.pyplot as ptl\n",
    "\n",
    "# Carrega a base de dados\n",
    "data = pd.read_csv(\"CTG.csv\")\n",
    "\n",
    "# Eliminando colunas que não serão utilizadas\n",
    "data = data.drop(data.columns[0], axis=1)\n",
    "\n",
    "data.head()"
   ]
  },
  {
   "cell_type": "markdown",
   "id": "574ee26e",
   "metadata": {},
   "source": [
    "## Cria o Dataframe"
   ]
  },
  {
   "cell_type": "code",
   "execution_count": null,
   "id": "44174ad9",
   "metadata": {},
   "outputs": [],
   "source": [
    "df_data = pd.DataFrame(data)\n",
    "df_data.info()"
   ]
  },
  {
   "cell_type": "markdown",
   "id": "798af3df",
   "metadata": {},
   "source": [
    "## Cria o Dataset de Treino"
   ]
  },
  {
   "cell_type": "code",
   "execution_count": null,
   "id": "48a3ec2d",
   "metadata": {},
   "outputs": [],
   "source": [
    "from sklearn.model_selection import train_test_split\n",
    "\n",
    "# Separa os dados em treino, teste e validação\n",
    "x_train, x_temp, y_train, y_temp = train_test_split(df_data, data[\"NSP\"], test_size=0.5, random_state=42)\n",
    "x_validation, x_test, y_validation, y_test = train_test_split(x_temp, y_temp, test_size=0.5, random_state=42)"
   ]
  },
  {
   "cell_type": "markdown",
   "id": "6395de4f",
   "metadata": {},
   "source": [
    "## Regra do Cotovelo Para Achar o Melhor K"
   ]
  },
  {
   "cell_type": "code",
   "execution_count": null,
   "id": "8f97b2ba",
   "metadata": {},
   "outputs": [],
   "source": [
    "from sklearn.neighbors import KNeighborsClassifier\n",
    "\n",
    "error_tx = []\n",
    "x_validation = np.ascontiguousarray(x_validation)\n",
    "\n",
    "for i in range(1, 100):\n",
    "    KNN = KNeighborsClassifier(n_neighbors=i)\n",
    "    KNN.fit(x_train, y_train)\n",
    "    pred = KNN.predict(x_validation)\n",
    "    error_tx.append(np.mean(pred!=y_validation))\n"
   ]
  },
  {
   "cell_type": "markdown",
   "id": "dbd2a13a",
   "metadata": {},
   "source": [
    "## Printa o Grafico de Erro dos K's"
   ]
  },
  {
   "cell_type": "code",
   "execution_count": null,
   "id": "82fc0137",
   "metadata": {},
   "outputs": [],
   "source": [
    "ptl.figure (figsize=(11,7))\n",
    "ptl.plot(range(1,100),error_tx,color='blue',linestyle='dashed',marker='o')\n",
    "ptl.xlabel('K')\n",
    "ptl.ylabel('Erro')"
   ]
  },
  {
   "cell_type": "markdown",
   "id": "419c0c32",
   "metadata": {},
   "source": [
    "# Tenta encontrar o melhor modelo"
   ]
  },
  {
   "cell_type": "code",
   "execution_count": null,
   "id": "f62f5ccf",
   "metadata": {},
   "outputs": [],
   "source": [
    "from sklearn.metrics import accuracy_score\n",
    "from sklearn.metrics import confusion_matrix\n",
    "\n",
    "higher = -1\n",
    "for i in (\"distance\", \"uniform\"):\n",
    "    for j in range(1, 100):\n",
    "        KNN = KNeighborsClassifier(n_neighbors=j, weights=i)\n",
    "        KNN.fit(x_train, y_train)\n",
    "        pred = KNN.predict(x_validation)\n",
    "        if accuracy_score(y_validation, pred) > higher:\n",
    "            higher = accuracy_score(y_validation, pred)\n",
    "            best_k = j\n",
    "            best_w = i\n",
    "\n",
    "print(\"\\nMelhor configuração para o KNN\")\n",
    "print(\"K: \",best_k,\" Métrica: \", best_w,\" Acc: \", higher)"
   ]
  },
  {
   "cell_type": "markdown",
   "id": "c9ce68c2",
   "metadata": {},
   "source": [
    "## Executa o Melhor Modelo"
   ]
  },
  {
   "cell_type": "code",
   "execution_count": null,
   "id": "8bb62929",
   "metadata": {},
   "outputs": [],
   "source": [
    "from sklearn.metrics import classification_report\n",
    "\n",
    "KNN_model = KNeighborsClassifier(n_neighbors=3, weights=\"distance\")\n",
    "KNN_model.fit(x_train, y_train)\n",
    "opinion = KNN_model.predict(x_validation)\n",
    "print(\"Acc: \", accuracy_score(y_validation, opinion))\n",
    "print(\"Relatório de Classificação:\\n\", classification_report(y_validation, pred))\n",
    "confusion_matrix(y_validation, opinion)"
   ]
  }
 ],
 "metadata": {
  "kernelspec": {
   "display_name": "Python 3 (ipykernel)",
   "language": "python",
   "name": "python3"
  },
  "language_info": {
   "codemirror_mode": {
    "name": "ipython",
    "version": 3
   },
   "file_extension": ".py",
   "mimetype": "text/x-python",
   "name": "python",
   "nbconvert_exporter": "python",
   "pygments_lexer": "ipython3",
   "version": "3.10.13"
  }
 },
 "nbformat": 4,
 "nbformat_minor": 5
}
