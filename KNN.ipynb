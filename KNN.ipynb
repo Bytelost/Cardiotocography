{
 "cells": [
  {
   "cell_type": "markdown",
   "id": "ff06bd7f",
   "metadata": {},
   "source": [
    "## Importa as Bibliotecas e a Base de Dados"
   ]
  },
  {
   "cell_type": "code",
   "execution_count": 14,
   "id": "ed3f043a-19be-43fc-b008-0b559bf97ce7",
   "metadata": {},
   "outputs": [
    {
     "data": {
      "text/html": [
       "<div>\n",
       "<style scoped>\n",
       "    .dataframe tbody tr th:only-of-type {\n",
       "        vertical-align: middle;\n",
       "    }\n",
       "\n",
       "    .dataframe tbody tr th {\n",
       "        vertical-align: top;\n",
       "    }\n",
       "\n",
       "    .dataframe thead th {\n",
       "        text-align: right;\n",
       "    }\n",
       "</style>\n",
       "<table border=\"1\" class=\"dataframe\">\n",
       "  <thead>\n",
       "    <tr style=\"text-align: right;\">\n",
       "      <th></th>\n",
       "      <th>LB</th>\n",
       "      <th>AC</th>\n",
       "      <th>FM</th>\n",
       "      <th>UC</th>\n",
       "      <th>ASTV</th>\n",
       "      <th>MSTV</th>\n",
       "      <th>ALTV</th>\n",
       "      <th>MLTV</th>\n",
       "      <th>DL</th>\n",
       "      <th>DS</th>\n",
       "      <th>...</th>\n",
       "      <th>Min</th>\n",
       "      <th>Max</th>\n",
       "      <th>Nmax</th>\n",
       "      <th>Nzeros</th>\n",
       "      <th>Mode</th>\n",
       "      <th>Mean</th>\n",
       "      <th>Median</th>\n",
       "      <th>Variance</th>\n",
       "      <th>Tendency</th>\n",
       "      <th>NSP</th>\n",
       "    </tr>\n",
       "  </thead>\n",
       "  <tbody>\n",
       "    <tr>\n",
       "      <th>0</th>\n",
       "      <td>120</td>\n",
       "      <td>0</td>\n",
       "      <td>0</td>\n",
       "      <td>0</td>\n",
       "      <td>73</td>\n",
       "      <td>0.5</td>\n",
       "      <td>43</td>\n",
       "      <td>2.4</td>\n",
       "      <td>0</td>\n",
       "      <td>0</td>\n",
       "      <td>...</td>\n",
       "      <td>62</td>\n",
       "      <td>126</td>\n",
       "      <td>2</td>\n",
       "      <td>0</td>\n",
       "      <td>120</td>\n",
       "      <td>137</td>\n",
       "      <td>121</td>\n",
       "      <td>73</td>\n",
       "      <td>1</td>\n",
       "      <td>2</td>\n",
       "    </tr>\n",
       "    <tr>\n",
       "      <th>1</th>\n",
       "      <td>132</td>\n",
       "      <td>4</td>\n",
       "      <td>0</td>\n",
       "      <td>4</td>\n",
       "      <td>17</td>\n",
       "      <td>2.1</td>\n",
       "      <td>0</td>\n",
       "      <td>10.4</td>\n",
       "      <td>2</td>\n",
       "      <td>0</td>\n",
       "      <td>...</td>\n",
       "      <td>68</td>\n",
       "      <td>198</td>\n",
       "      <td>6</td>\n",
       "      <td>1</td>\n",
       "      <td>141</td>\n",
       "      <td>136</td>\n",
       "      <td>140</td>\n",
       "      <td>12</td>\n",
       "      <td>0</td>\n",
       "      <td>1</td>\n",
       "    </tr>\n",
       "    <tr>\n",
       "      <th>2</th>\n",
       "      <td>133</td>\n",
       "      <td>2</td>\n",
       "      <td>0</td>\n",
       "      <td>5</td>\n",
       "      <td>16</td>\n",
       "      <td>2.1</td>\n",
       "      <td>0</td>\n",
       "      <td>13.4</td>\n",
       "      <td>2</td>\n",
       "      <td>0</td>\n",
       "      <td>...</td>\n",
       "      <td>68</td>\n",
       "      <td>198</td>\n",
       "      <td>5</td>\n",
       "      <td>1</td>\n",
       "      <td>141</td>\n",
       "      <td>135</td>\n",
       "      <td>138</td>\n",
       "      <td>13</td>\n",
       "      <td>0</td>\n",
       "      <td>1</td>\n",
       "    </tr>\n",
       "    <tr>\n",
       "      <th>3</th>\n",
       "      <td>134</td>\n",
       "      <td>2</td>\n",
       "      <td>0</td>\n",
       "      <td>6</td>\n",
       "      <td>16</td>\n",
       "      <td>2.4</td>\n",
       "      <td>0</td>\n",
       "      <td>23.0</td>\n",
       "      <td>2</td>\n",
       "      <td>0</td>\n",
       "      <td>...</td>\n",
       "      <td>53</td>\n",
       "      <td>170</td>\n",
       "      <td>11</td>\n",
       "      <td>0</td>\n",
       "      <td>137</td>\n",
       "      <td>134</td>\n",
       "      <td>137</td>\n",
       "      <td>13</td>\n",
       "      <td>1</td>\n",
       "      <td>1</td>\n",
       "    </tr>\n",
       "    <tr>\n",
       "      <th>4</th>\n",
       "      <td>132</td>\n",
       "      <td>4</td>\n",
       "      <td>0</td>\n",
       "      <td>5</td>\n",
       "      <td>16</td>\n",
       "      <td>2.4</td>\n",
       "      <td>0</td>\n",
       "      <td>19.9</td>\n",
       "      <td>0</td>\n",
       "      <td>0</td>\n",
       "      <td>...</td>\n",
       "      <td>53</td>\n",
       "      <td>170</td>\n",
       "      <td>9</td>\n",
       "      <td>0</td>\n",
       "      <td>137</td>\n",
       "      <td>136</td>\n",
       "      <td>138</td>\n",
       "      <td>11</td>\n",
       "      <td>1</td>\n",
       "      <td>1</td>\n",
       "    </tr>\n",
       "  </tbody>\n",
       "</table>\n",
       "<p>5 rows × 22 columns</p>\n",
       "</div>"
      ],
      "text/plain": [
       "    LB  AC  FM  UC  ASTV  MSTV  ALTV  MLTV  DL  DS  ...  Min  Max  Nmax  \\\n",
       "0  120   0   0   0    73   0.5    43   2.4   0   0  ...   62  126     2   \n",
       "1  132   4   0   4    17   2.1     0  10.4   2   0  ...   68  198     6   \n",
       "2  133   2   0   5    16   2.1     0  13.4   2   0  ...   68  198     5   \n",
       "3  134   2   0   6    16   2.4     0  23.0   2   0  ...   53  170    11   \n",
       "4  132   4   0   5    16   2.4     0  19.9   0   0  ...   53  170     9   \n",
       "\n",
       "   Nzeros  Mode  Mean  Median  Variance  Tendency  NSP  \n",
       "0       0   120   137     121        73         1    2  \n",
       "1       1   141   136     140        12         0    1  \n",
       "2       1   141   135     138        13         0    1  \n",
       "3       0   137   134     137        13         1    1  \n",
       "4       0   137   136     138        11         1    1  \n",
       "\n",
       "[5 rows x 22 columns]"
      ]
     },
     "execution_count": 14,
     "metadata": {},
     "output_type": "execute_result"
    }
   ],
   "source": [
    "# Chama as bibliotecas\n",
    "import sklearn as sk\n",
    "import numpy as np\n",
    "import pandas as pd\n",
    "import matplotlib.pyplot as ptl\n",
    "import seaborn as sb\n",
    "\n",
    "# Carrega a base de dados\n",
    "data = pd.read_csv(\"CTG.csv\")\n",
    "\n",
    "# Eliminando colunas que não serão utilizadas\n",
    "data = data.drop(data.columns[0], axis=1)\n",
    "\n",
    "data.head()"
   ]
  },
  {
   "cell_type": "markdown",
   "id": "574ee26e",
   "metadata": {},
   "source": [
    "## Cria o Dataframe"
   ]
  },
  {
   "cell_type": "code",
   "execution_count": 15,
   "id": "44174ad9",
   "metadata": {},
   "outputs": [
    {
     "name": "stdout",
     "output_type": "stream",
     "text": [
      "<class 'pandas.core.frame.DataFrame'>\n",
      "RangeIndex: 2126 entries, 0 to 2125\n",
      "Data columns (total 22 columns):\n",
      " #   Column    Non-Null Count  Dtype  \n",
      "---  ------    --------------  -----  \n",
      " 0   LB        2126 non-null   int64  \n",
      " 1   AC        2126 non-null   int64  \n",
      " 2   FM        2126 non-null   int64  \n",
      " 3   UC        2126 non-null   int64  \n",
      " 4   ASTV      2126 non-null   int64  \n",
      " 5   MSTV      2126 non-null   float64\n",
      " 6   ALTV      2126 non-null   int64  \n",
      " 7   MLTV      2126 non-null   float64\n",
      " 8   DL        2126 non-null   int64  \n",
      " 9   DS        2126 non-null   int64  \n",
      " 10  DP        2126 non-null   int64  \n",
      " 11  Width     2126 non-null   int64  \n",
      " 12  Min       2126 non-null   int64  \n",
      " 13  Max       2126 non-null   int64  \n",
      " 14  Nmax      2126 non-null   int64  \n",
      " 15  Nzeros    2126 non-null   int64  \n",
      " 16  Mode      2126 non-null   int64  \n",
      " 17  Mean      2126 non-null   int64  \n",
      " 18  Median    2126 non-null   int64  \n",
      " 19  Variance  2126 non-null   int64  \n",
      " 20  Tendency  2126 non-null   int64  \n",
      " 21  NSP       2126 non-null   int64  \n",
      "dtypes: float64(2), int64(20)\n",
      "memory usage: 365.5 KB\n"
     ]
    }
   ],
   "source": [
    "df_data = pd.DataFrame(data)\n",
    "df_data.info()"
   ]
  },
  {
   "cell_type": "markdown",
   "id": "798af3df",
   "metadata": {},
   "source": [
    "## Cria o Dataset de Treino"
   ]
  },
  {
   "cell_type": "code",
   "execution_count": 16,
   "id": "48a3ec2d",
   "metadata": {},
   "outputs": [],
   "source": [
    "from sklearn.model_selection import train_test_split\n",
    "\n",
    "# Separa os dados em treino, teste e validação\n",
    "x_train, x_temp, y_train, y_temp = train_test_split(df_data, data[\"NSP\"], test_size=0.5, random_state=42)\n",
    "x_validation, x_test, y_validation, y_test = train_test_split(x_temp, y_temp, test_size=0.5, random_state=42)"
   ]
  },
  {
   "cell_type": "markdown",
   "id": "296d8038",
   "metadata": {},
   "source": [
    "## Treina o KNN"
   ]
  },
  {
   "cell_type": "code",
   "execution_count": 22,
   "id": "83af4a91",
   "metadata": {},
   "outputs": [
    {
     "name": "stdout",
     "output_type": "stream",
     "text": [
      "Acc:  0.871939736346516\n"
     ]
    },
    {
     "name": "stderr",
     "output_type": "stream",
     "text": [
      "/home/mclovin/work/Cardiotocography/Python/lib/python3.10/site-packages/sklearn/base.py:457: UserWarning: X has feature names, but KNeighborsClassifier was fitted without feature names\n",
      "  warnings.warn(\n"
     ]
    },
    {
     "data": {
      "text/plain": [
       "array([[402,  14,   2],\n",
       "       [ 38,  35,   1],\n",
       "       [ 10,   3,  26]])"
      ]
     },
     "execution_count": 22,
     "metadata": {},
     "output_type": "execute_result"
    }
   ],
   "source": [
    "from sklearn.neighbors import KNeighborsClassifier\n",
    "from sklearn.metrics import accuracy_score, confusion_matrix\n",
    "\n",
    "# Converte x_train e y_train para numpy array\n",
    "x_train = np.ascontiguousarray(x_train)\n",
    "y_train = np.ascontiguousarray(y_train)\n",
    "\n",
    "# Cria o modelo\n",
    "KNN_model = KNeighborsClassifier(n_neighbors=30, weights=\"distance\")\n",
    "KNN_model.fit(x_train, y_train)\n",
    "opinion = KNN_model.predict(x_validation)\n",
    "print(\"Acc: \", accuracy_score(y_validation, opinion))\n",
    "confusion_matrix(y_validation, opinion)"
   ]
  },
  {
   "cell_type": "markdown",
   "id": "6395de4f",
   "metadata": {},
   "source": [
    "## Regra do Cotovelo Para Achar o Melhor K"
   ]
  },
  {
   "cell_type": "code",
   "execution_count": 30,
   "id": "8f97b2ba",
   "metadata": {},
   "outputs": [],
   "source": [
    "error_tx = []\n",
    "x_validation = np.ascontiguousarray(x_validation)\n",
    "\n",
    "for i in range(1, 100):\n",
    "    KNN = KNeighborsClassifier(n_neighbors=i)\n",
    "    KNN.fit(x_train, y_train)\n",
    "    pred = KNN.predict(x_validation)\n",
    "    error_tx.append(np.mean(pred!=y_validation))\n"
   ]
  },
  {
   "cell_type": "markdown",
   "id": "dbd2a13a",
   "metadata": {},
   "source": [
    "## Printa o Grafico de Erro dos K's"
   ]
  },
  {
   "cell_type": "code",
   "execution_count": 33,
   "id": "82fc0137",
   "metadata": {},
   "outputs": [
    {
     "data": {
      "text/plain": [
       "Text(0, 0.5, 'Erro')"
      ]
     },
     "execution_count": 33,
     "metadata": {},
     "output_type": "execute_result"
    },
    {
     "data": {
      "image/png": "[encoded data removed]",
      "text/plain": [
       "<Figure size 1100x700 with 1 Axes>"
      ]
     },
     "metadata": {},
     "output_type": "display_data"
    }
   ],
   "source": [
    "ptl.figure (figsize=(11,7))\n",
    "ptl.plot(range(1,100),error_tx,color='blue',linestyle='dashed',marker='o')\n",
    "ptl.xlabel('K')\n",
    "ptl.ylabel('Erro')"
   ]
  },
  {
   "cell_type": "markdown",
   "id": "419c0c32",
   "metadata": {},
   "source": [
    "# Tenta encontrar o melhor modelo"
   ]
  },
  {
   "cell_type": "code",
   "execution_count": 35,
   "id": "f62f5ccf",
   "metadata": {},
   "outputs": [
    {
     "name": "stdout",
     "output_type": "stream",
     "text": [
      "\n",
      "Melhor configuração para o KNN\n",
      "K:  3  Métrica:  distance  Acc:  0.8851224105461394\n"
     ]
    }
   ],
   "source": [
    "higher = -1\n",
    "\n",
    "for i in (\"distance\", \"uniform\"):\n",
    "    for j in range(1, 100):\n",
    "        KNN = KNeighborsClassifier(n_neighbors=j, weights=i)\n",
    "        KNN.fit(x_train, y_train)\n",
    "        pred = KNN.predict(x_validation)\n",
    "        if accuracy_score(y_validation, pred) > higher:\n",
    "            higher = accuracy_score(y_validation, pred)\n",
    "            best_k = j\n",
    "            best_w = i\n",
    "\n",
    "print(\"\\nMelhor configuração para o KNN\")\n",
    "print(\"K: \",best_k,\" Métrica: \", best_w,\" Acc: \", higher)"
   ]
  },
  {
   "cell_type": "code",
   "execution_count": null,
   "id": "8bb62929",
   "metadata": {},
   "outputs": [],
   "source": []
  }
 ],
 "metadata": {
  "kernelspec": {
   "display_name": "Python 3 (ipykernel)",
   "language": "python",
   "name": "python3"
  },
  "language_info": {
   "codemirror_mode": {
    "name": "ipython",
    "version": 3
   },
   "file_extension": ".py",
   "mimetype": "text/x-python",
   "name": "python",
   "nbconvert_exporter": "python",
   "pygments_lexer": "ipython3",
   "version": "3.10.13"
  }
 },
 "nbformat": 4,
 "nbformat_minor": 5
}
