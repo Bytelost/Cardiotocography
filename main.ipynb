{
 "cells": [
  {
   "cell_type": "markdown",
   "id": "0b96b889",
   "metadata": {},
   "source": [
    "## Import Libraries and Database"
   ]
  },
  {
   "cell_type": "code",
   "execution_count": null,
   "metadata": {},
   "outputs": [],
   "source": [
    "# Import the libraries\n",
    "import sklearn as sk\n",
    "import numpy as np\n",
    "import pandas as pd\n",
    "import matplotlib.pyplot as plt\n",
    "from sklearn import metrics\n",
    "from scipy.stats import kruskal, mannwhitneyu\n",
    "\n",
    "# Import the models\n",
    "import src.DT_model as dt\n",
    "import src.KNN_model as knn\n",
    "import src.NB_model as nb\n",
    "import src.SVM_model as svm\n",
    "import src.MLP_model as mlp\n",
    "import src.BC_model as bc\n",
    "\n",
    "# Load the database\n",
    "data = pd.read_csv(\"CTG.csv\")\n",
    "data = data.drop(data.columns[0], axis=1)\n",
    "\n",
    "data.head()"
   ]
  },
  {
   "cell_type": "markdown",
   "id": "d2366d59",
   "metadata": {},
   "source": [
    "## Create the Dataframe"
   ]
  },
  {
   "cell_type": "code",
   "execution_count": null,
   "id": "b96718ca",
   "metadata": {},
   "outputs": [],
   "source": []
  },
  {
   "cell_type": "markdown",
   "id": "d0699511",
   "metadata": {},
   "source": [
    "## Data Separation"
   ]
  },
  {
   "cell_type": "code",
   "execution_count": null,
   "id": "dd26de3c",
   "metadata": {},
   "outputs": [],
   "source": [
    "from sklearn.model_selection import train_test_split\n",
    "\n",
    "# Function the create new set every run\n",
    "def data_shufle(df_data):\n",
    "    \n",
    "    # Create the dataframe\n",
    "    df_data = pd.DataFrame(data)\n",
    "    \n",
    "    # Shuffle the data and drop the NSP column\n",
    "    df_data = sk.utils.shuffle(df_data)\n",
    "    df_data = df_data.drop(columns=[\"NSP\"])\n",
    "    data = sk.utils.shuffle(data)\n",
    "    \n",
    "    # Split the data\n",
    "    x_train, x_temp, y_train, y_temp = train_test_split(df_data, data[\"NSP\"], test_size=0.5, random_state=42)\n",
    "    x_validation, x_test, y_validation, y_test = train_test_split(x_temp, y_temp, test_size=0.5, random_state=42)\n",
    "\n",
    "\n",
    "    return x_train, x_validation, x_test, y_train, y_validation, y_test"
   ]
  },
  {
   "cell_type": "markdown",
   "id": "97b71a85",
   "metadata": {},
   "source": [
    "## Run the Models"
   ]
  },
  {
   "cell_type": "code",
   "execution_count": null,
   "id": "0a7e3884",
   "metadata": {},
   "outputs": [],
   "source": [
    "\n",
    "acc_out = pd.DataFrame(columns=[\"KNN\", \"DT\", \"NB\", \"SVM\", \"MLP\", \"MV\", \"SV\", \"BC\"])\n",
    "\n",
    "# Run the models\n",
    "for i in range(1):\n",
    "    \n",
    "    # Shufle the data\n",
    "    x_train, x_validation, x_test, y_train, y_validation, y_test = data_shufle(df_data)\n",
    "    \n",
    "    # ----------------------\n",
    "    # Monolithic classifiers\n",
    "    # ----------------------\n",
    "    \n",
    "    # KNN execution\n",
    "    knn_acc, knn_model, knn_params = knn.KNN(x_train, y_train, x_validation, y_validation, x_test, y_test)\n",
    "    \n",
    "    # DT execution\n",
    "    dt_acc, dt_model, dt_params = dt.DT(x_train, y_train, x_validation, y_validation, x_test, y_test)\n",
    "    \n",
    "    # NB execution\n",
    "    nb_acc, nb_model = nb.NB(x_train, y_train, x_validation, y_validation, x_test, y_test)\n",
    "    \n",
    "    # SVM execution\n",
    "    svm_acc, svm_model, svm_params = svm.SVM(x_train, y_train, x_validation, y_validation, x_test, y_test)\n",
    "    \n",
    "    # MLP execution\n",
    "    mlp_acc, mlp_model, mlp_params = mlp.MLP(x_train, y_train, x_validation, y_validation, x_test, y_test)\n",
    "    \n",
    "    # --------------------\n",
    "    # Multiple classifiers\n",
    "    # --------------------\n",
    "    from sklearn.ensemble import VotingClassifier\n",
    "    estimators = [('KNN', knn_model), ('DT', dt_model), ('NB', nb_model), ('SVM', svm_model), ('MLP', mlp_model)]\n",
    "    y_test = np.ascontiguousarray(y_test)\n",
    "    x_test = np.ascontiguousarray(x_test)\n",
    "    \n",
    "    # Majority Voting\n",
    "    majority_voting = VotingClassifier(estimators, voting='hard')\n",
    "    majority_voting.fit(x_train, y_train)\n",
    "    majority_voting_acc = sk.metrics.accuracy_score(y_test, majority_voting.predict(x_test))\n",
    "    \n",
    "    # Sum Voting\n",
    "    sum_voting = VotingClassifier(estimators, voting='soft')\n",
    "    sum_voting.fit(x_train, y_train)\n",
    "    sum_voting_acc = sk.metrics.accuracy_score(y_test, sum_voting.predict(x_test))\n",
    "    \n",
    "    # Borda Count\n",
    "    borda_count = bc.BordaCountClassifier(estimators)\n",
    "    borda_count.fit(x_train, y_train)\n",
    "    borda_count_acc = sk.metrics.accuracy_score(y_test, borda_count.predict(x_test))\n",
    "    \n",
    "    # Save the results\n",
    "    acc_out.loc[i] = [knn_acc, dt_acc, nb_acc, svm_acc, mlp_acc, majority_voting_acc, sum_voting_acc, borda_count_acc]\n",
    "    \n",
    "\n",
    "# Generete the CSV file\n",
    "acc_out.to_csv(\"acc_out.csv\", index=False) \n",
    "    \n",
    "    \n",
    "    "
   ]
  },
  {
   "cell_type": "markdown",
   "id": "d71b7fdf",
   "metadata": {},
   "source": [
    "## Mann-Whitney U test"
   ]
  },
  {
   "cell_type": "code",
   "execution_count": null,
   "id": "b5728109",
   "metadata": {},
   "outputs": [],
   "source": [
    "def mannwhitneyu_pair(df, model_col, a):\n",
    "    print(\"Mann-Whitney U test\")\n",
    "    for i in range(len(model_col)):\n",
    "        for j in range(i+1, len(model_col)):\n",
    "            u_statistic, pVal = mannwhitneyu(df[model_col[i]], df[model_col[j]], alternative='two-sided')\n",
    "            \n",
    "            print(\"============Mann-Whitney============\")\n",
    "            print(model_col[i], \"x\", model_col[j], \":\", u_statistic, \"\\nPval:\", pVal)\n",
    "            if pVal < a:\n",
    "                print(\"Reject H0\")\n",
    "            else:\n",
    "                print(\"Fail to reject H0\")\n",
    "            print(\"====================================\")"
   ]
  },
  {
   "cell_type": "markdown",
   "id": "b9223d34",
   "metadata": {},
   "source": [
    "## Analyze the Results - Monolithic Classifiers"
   ]
  },
  {
   "cell_type": "code",
   "execution_count": null,
   "id": "2cee16cd",
   "metadata": {},
   "outputs": [],
   "source": [
    "# Read the output file\n",
    "output_df = pd.read_csv(\"acc_out.csv\")\n",
    "\n",
    "alpha = 0.05\n",
    "\n",
    "# Extract the data\n",
    "knn = output_df[\"KNN\"]\n",
    "dt = output_df[\"DT\"]\n",
    "nb = output_df[\"NB\"]\n",
    "svm = output_df[\"SVM\"]\n",
    "mlp = output_df[\"MLP\"]\n",
    "\n",
    "# Kruskal-Wallis test\n",
    "stat, p = kruskal(knn_acc, dt_acc, nb_acc, svm_acc, mlp_acc)\n",
    "\n",
    "print('Kruskal Statistics=%.3f, P=%.3f' % (stat, p))\n",
    "\n",
    "if p < alpha:\n",
    "    print(\"Reject H0. Significant differences between the groups\\n\")\n",
    "    model_col = [\"KNN\", \"DT\", \"NB\", \"SVM\", \"MLP\"]\n",
    "    mannwhitneyu_pair(output_df, model_col, alpha)\n",
    "else:\n",
    "    print(\"Fail to reject H0. No significant differences between the groups\\n\")"
   ]
  },
  {
   "cell_type": "markdown",
   "id": "8803ad2c",
   "metadata": {},
   "source": [
    "## Analyze the Results - Multiple Classifiers"
   ]
  },
  {
   "cell_type": "code",
   "execution_count": null,
   "id": "919a1cdd",
   "metadata": {},
   "outputs": [],
   "source": [
    "# Read the output file\n",
    "output_df = pd.read_csv(\"acc_out.csv\")\n",
    "\n",
    "alpha = 0.05\n",
    "\n",
    "# Extract the data\n",
    "mv = output_df[\"MV\"]\n",
    "sv = output_df[\"SV\"]\n",
    "bc = output_df[\"BC\"]\n",
    "\n",
    "# Kruskal-Wallis test\n",
    "stat, p = kruskal(mv, sv, bc)\n",
    "\n",
    "print('Kruskal Statistics=%.3f, P=%.3f' % (stat, p))\n",
    "\n",
    "if p < alpha:\n",
    "    print(\"Reject H0. Significant differences between the groups\\n\")\n",
    "    model_col = [\"MV\", \"SV\", \"BC\"]\n",
    "    mannwhitneyu_pair(output_df, model_col, alpha)\n",
    "else:\n",
    "    print(\"Fail to reject H0. No significant differences between the groups\\n\")"
   ]
  }
 ],
 "metadata": {
  "kernelspec": {
   "display_name": "Python 3",
   "language": "python",
   "name": "python3"
  },
  "language_info": {
   "codemirror_mode": {
    "name": "ipython",
    "version": 3
   },
   "file_extension": ".py",
   "mimetype": "text/x-python",
   "name": "python",
   "nbconvert_exporter": "python",
   "pygments_lexer": "ipython3",
   "version": "3.10.13"
  }
 },
 "nbformat": 4,
 "nbformat_minor": 5
}
