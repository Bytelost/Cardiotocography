{
 "cells": [
  {
   "cell_type": "markdown",
   "id": "22999068",
   "metadata": {},
   "source": [
    "## Importa as Bibliotacas e Database"
   ]
  },
  {
   "cell_type": "code",
   "execution_count": 1,
   "id": "311ba3b9-2c47-4eec-b502-565aeb92f2bf",
   "metadata": {},
   "outputs": [
    {
     "data": {
      "text/html": [
       "<div>\n",
       "<style scoped>\n",
       "    .dataframe tbody tr th:only-of-type {\n",
       "        vertical-align: middle;\n",
       "    }\n",
       "\n",
       "    .dataframe tbody tr th {\n",
       "        vertical-align: top;\n",
       "    }\n",
       "\n",
       "    .dataframe thead th {\n",
       "        text-align: right;\n",
       "    }\n",
       "</style>\n",
       "<table border=\"1\" class=\"dataframe\">\n",
       "  <thead>\n",
       "    <tr style=\"text-align: right;\">\n",
       "      <th></th>\n",
       "      <th>LB</th>\n",
       "      <th>AC</th>\n",
       "      <th>FM</th>\n",
       "      <th>UC</th>\n",
       "      <th>ASTV</th>\n",
       "      <th>MSTV</th>\n",
       "      <th>ALTV</th>\n",
       "      <th>MLTV</th>\n",
       "      <th>DL</th>\n",
       "      <th>DS</th>\n",
       "      <th>...</th>\n",
       "      <th>Min</th>\n",
       "      <th>Max</th>\n",
       "      <th>Nmax</th>\n",
       "      <th>Nzeros</th>\n",
       "      <th>Mode</th>\n",
       "      <th>Mean</th>\n",
       "      <th>Median</th>\n",
       "      <th>Variance</th>\n",
       "      <th>Tendency</th>\n",
       "      <th>NSP</th>\n",
       "    </tr>\n",
       "  </thead>\n",
       "  <tbody>\n",
       "    <tr>\n",
       "      <th>0</th>\n",
       "      <td>120</td>\n",
       "      <td>0</td>\n",
       "      <td>0</td>\n",
       "      <td>0</td>\n",
       "      <td>73</td>\n",
       "      <td>0.5</td>\n",
       "      <td>43</td>\n",
       "      <td>2.4</td>\n",
       "      <td>0</td>\n",
       "      <td>0</td>\n",
       "      <td>...</td>\n",
       "      <td>62</td>\n",
       "      <td>126</td>\n",
       "      <td>2</td>\n",
       "      <td>0</td>\n",
       "      <td>120</td>\n",
       "      <td>137</td>\n",
       "      <td>121</td>\n",
       "      <td>73</td>\n",
       "      <td>1</td>\n",
       "      <td>2</td>\n",
       "    </tr>\n",
       "    <tr>\n",
       "      <th>1</th>\n",
       "      <td>132</td>\n",
       "      <td>4</td>\n",
       "      <td>0</td>\n",
       "      <td>4</td>\n",
       "      <td>17</td>\n",
       "      <td>2.1</td>\n",
       "      <td>0</td>\n",
       "      <td>10.4</td>\n",
       "      <td>2</td>\n",
       "      <td>0</td>\n",
       "      <td>...</td>\n",
       "      <td>68</td>\n",
       "      <td>198</td>\n",
       "      <td>6</td>\n",
       "      <td>1</td>\n",
       "      <td>141</td>\n",
       "      <td>136</td>\n",
       "      <td>140</td>\n",
       "      <td>12</td>\n",
       "      <td>0</td>\n",
       "      <td>1</td>\n",
       "    </tr>\n",
       "    <tr>\n",
       "      <th>2</th>\n",
       "      <td>133</td>\n",
       "      <td>2</td>\n",
       "      <td>0</td>\n",
       "      <td>5</td>\n",
       "      <td>16</td>\n",
       "      <td>2.1</td>\n",
       "      <td>0</td>\n",
       "      <td>13.4</td>\n",
       "      <td>2</td>\n",
       "      <td>0</td>\n",
       "      <td>...</td>\n",
       "      <td>68</td>\n",
       "      <td>198</td>\n",
       "      <td>5</td>\n",
       "      <td>1</td>\n",
       "      <td>141</td>\n",
       "      <td>135</td>\n",
       "      <td>138</td>\n",
       "      <td>13</td>\n",
       "      <td>0</td>\n",
       "      <td>1</td>\n",
       "    </tr>\n",
       "    <tr>\n",
       "      <th>3</th>\n",
       "      <td>134</td>\n",
       "      <td>2</td>\n",
       "      <td>0</td>\n",
       "      <td>6</td>\n",
       "      <td>16</td>\n",
       "      <td>2.4</td>\n",
       "      <td>0</td>\n",
       "      <td>23.0</td>\n",
       "      <td>2</td>\n",
       "      <td>0</td>\n",
       "      <td>...</td>\n",
       "      <td>53</td>\n",
       "      <td>170</td>\n",
       "      <td>11</td>\n",
       "      <td>0</td>\n",
       "      <td>137</td>\n",
       "      <td>134</td>\n",
       "      <td>137</td>\n",
       "      <td>13</td>\n",
       "      <td>1</td>\n",
       "      <td>1</td>\n",
       "    </tr>\n",
       "    <tr>\n",
       "      <th>4</th>\n",
       "      <td>132</td>\n",
       "      <td>4</td>\n",
       "      <td>0</td>\n",
       "      <td>5</td>\n",
       "      <td>16</td>\n",
       "      <td>2.4</td>\n",
       "      <td>0</td>\n",
       "      <td>19.9</td>\n",
       "      <td>0</td>\n",
       "      <td>0</td>\n",
       "      <td>...</td>\n",
       "      <td>53</td>\n",
       "      <td>170</td>\n",
       "      <td>9</td>\n",
       "      <td>0</td>\n",
       "      <td>137</td>\n",
       "      <td>136</td>\n",
       "      <td>138</td>\n",
       "      <td>11</td>\n",
       "      <td>1</td>\n",
       "      <td>1</td>\n",
       "    </tr>\n",
       "  </tbody>\n",
       "</table>\n",
       "<p>5 rows × 22 columns</p>\n",
       "</div>"
      ],
      "text/plain": [
       "    LB  AC  FM  UC  ASTV  MSTV  ALTV  MLTV  DL  DS  ...  Min  Max  Nmax  \\\n",
       "0  120   0   0   0    73   0.5    43   2.4   0   0  ...   62  126     2   \n",
       "1  132   4   0   4    17   2.1     0  10.4   2   0  ...   68  198     6   \n",
       "2  133   2   0   5    16   2.1     0  13.4   2   0  ...   68  198     5   \n",
       "3  134   2   0   6    16   2.4     0  23.0   2   0  ...   53  170    11   \n",
       "4  132   4   0   5    16   2.4     0  19.9   0   0  ...   53  170     9   \n",
       "\n",
       "   Nzeros  Mode  Mean  Median  Variance  Tendency  NSP  \n",
       "0       0   120   137     121        73         1    2  \n",
       "1       1   141   136     140        12         0    1  \n",
       "2       1   141   135     138        13         0    1  \n",
       "3       0   137   134     137        13         1    1  \n",
       "4       0   137   136     138        11         1    1  \n",
       "\n",
       "[5 rows x 22 columns]"
      ]
     },
     "execution_count": 1,
     "metadata": {},
     "output_type": "execute_result"
    }
   ],
   "source": [
    "# Chama as bibliotecas\n",
    "import sklearn as sk\n",
    "import numpy as np\n",
    "import pandas as pd\n",
    "import matplotlib.pyplot as ptl\n",
    "\n",
    "# Carrega a base de dados\n",
    "data = pd.read_csv(\"CTG.csv\")\n",
    "\n",
    "# Eliminando colunas que não serão utilizadas\n",
    "data = data.drop(data.columns[0], axis=1)\n",
    "\n",
    "data.head()"
   ]
  },
  {
   "cell_type": "markdown",
   "id": "5ee3116d",
   "metadata": {},
   "source": [
    "## Cria o Data Frame"
   ]
  },
  {
   "cell_type": "code",
   "execution_count": 2,
   "id": "a3111113",
   "metadata": {},
   "outputs": [
    {
     "name": "stdout",
     "output_type": "stream",
     "text": [
      "<class 'pandas.core.frame.DataFrame'>\n",
      "RangeIndex: 2126 entries, 0 to 2125\n",
      "Data columns (total 21 columns):\n",
      " #   Column    Non-Null Count  Dtype  \n",
      "---  ------    --------------  -----  \n",
      " 0   LB        2126 non-null   int64  \n",
      " 1   AC        2126 non-null   int64  \n",
      " 2   FM        2126 non-null   int64  \n",
      " 3   UC        2126 non-null   int64  \n",
      " 4   ASTV      2126 non-null   int64  \n",
      " 5   MSTV      2126 non-null   float64\n",
      " 6   ALTV      2126 non-null   int64  \n",
      " 7   MLTV      2126 non-null   float64\n",
      " 8   DL        2126 non-null   int64  \n",
      " 9   DS        2126 non-null   int64  \n",
      " 10  DP        2126 non-null   int64  \n",
      " 11  Width     2126 non-null   int64  \n",
      " 12  Min       2126 non-null   int64  \n",
      " 13  Max       2126 non-null   int64  \n",
      " 14  Nmax      2126 non-null   int64  \n",
      " 15  Nzeros    2126 non-null   int64  \n",
      " 16  Mode      2126 non-null   int64  \n",
      " 17  Mean      2126 non-null   int64  \n",
      " 18  Median    2126 non-null   int64  \n",
      " 19  Variance  2126 non-null   int64  \n",
      " 20  Tendency  2126 non-null   int64  \n",
      "dtypes: float64(2), int64(19)\n",
      "memory usage: 348.9 KB\n"
     ]
    }
   ],
   "source": [
    "df_data = pd.DataFrame(data)\n",
    "df_data = df_data.drop(columns=[\"NSP\"])\n",
    "df_data.info()"
   ]
  },
  {
   "cell_type": "markdown",
   "id": "4c238168",
   "metadata": {},
   "source": [
    "# Separa o Dataframe para Treino, Teste e Validação"
   ]
  },
  {
   "cell_type": "code",
   "execution_count": 3,
   "id": "a82515ab",
   "metadata": {},
   "outputs": [],
   "source": [
    "from sklearn.model_selection import train_test_split\n",
    "\n",
    "# Separa os dados em treino, teste e validação\n",
    "x_train, x_temp, y_train, y_temp = train_test_split(df_data, data[\"NSP\"], test_size=0.5, random_state=42)\n",
    "x_validation, x_test, y_validation, y_test = train_test_split(x_temp, y_temp, test_size=0.5, random_state=42)"
   ]
  },
  {
   "cell_type": "markdown",
   "id": "7f142ddf",
   "metadata": {},
   "source": [
    "## Encontra o Melhor Modelo"
   ]
  },
  {
   "cell_type": "code",
   "execution_count": 6,
   "id": "a41f9e19",
   "metadata": {},
   "outputs": [
    {
     "name": "stdout",
     "output_type": "stream",
     "text": [
      "SVM linear 0.1 accuracy: 0.8775894538606404\n",
      "SVM linear 1 accuracy: 0.8832391713747646\n",
      "SVM linear 10 accuracy: 0.8907721280602636\n",
      "SVM poly 0.1 accuracy: 0.7966101694915254\n",
      "SVM poly 1 accuracy: 0.8549905838041432\n",
      "SVM poly 10 accuracy: 0.8625235404896422\n",
      "SVM rbf 0.1 accuracy: 0.7871939736346516\n",
      "SVM rbf 1 accuracy: 0.8418079096045198\n",
      "SVM rbf 10 accuracy: 0.8700564971751412\n",
      "SVM sigmoid 0.1 accuracy: 0.7871939736346516\n",
      "SVM sigmoid 1 accuracy: 0.7871939736346516\n",
      "SVM sigmoid 10 accuracy: 0.7457627118644068\n"
     ]
    }
   ],
   "source": [
    "from sklearn.svm import SVC\n",
    "\n",
    "score = []\n",
    "model_name = []\n",
    "highest = -1\n",
    "\n",
    "# Criando e testando os modelol\n",
    "for i in('linear', 'poly', 'rbf', 'sigmoid'):\n",
    "    for j in (0.1, 1, 10):\n",
    "        SVM = SVC(kernel=i, C=j)\n",
    "        SVM.fit(x_train, y_train)\n",
    "        pred = SVM.predict(x_validation)\n",
    "        acc = sk.metrics.accuracy_score(y_validation, pred)\n",
    "        \n",
    "        # Salva o melhor modelo\n",
    "        if acc > highest:\n",
    "            name = \"SVM \" + i + \" \" + str(j)\n",
    "            best_kernel = i\n",
    "            best_c = j\n",
    "            highest = acc\n",
    "    \n",
    "        # Salva o score dos modelos\n",
    "        score.append(acc)\n",
    "        model_name.append(\"SVM \" + i + \" \" + str(j))\n",
    "        \n"
   ]
  },
  {
   "cell_type": "markdown",
   "id": "5aa7980a",
   "metadata": {},
   "source": [
    "## Plota a Acuracia de Cada Modelo"
   ]
  },
  {
   "cell_type": "code",
   "execution_count": 7,
   "id": "03a2466a",
   "metadata": {},
   "outputs": [
    {
     "name": "stdout",
     "output_type": "stream",
     "text": [
      "Name: SVM linear 10  Score: 0.8907721280602636\n"
     ]
    },
    {
     "data": {
      "image/png": "[encoded data removed]",
      "text/plain": [
       "<Figure size 1100x700 with 1 Axes>"
      ]
     },
     "metadata": {},
     "output_type": "display_data"
    }
   ],
   "source": [
    "# Grafio do score de cada modelo\n",
    "ptl.figure(figsize=(11,7))\n",
    "ptl.plot(range(len(model_name)), score, color='blue', linestyle='dashed', marker='o')\n",
    "ptl.xlabel('Modelo')\n",
    "ptl.ylabel('Accuracy')\n",
    "\n",
    "# Mostra a melhor configuração\n",
    "print(\"Name:\", name, \" Score:\", highest)"
   ]
  },
  {
   "cell_type": "code",
   "execution_count": null,
   "id": "43f3cda5",
   "metadata": {},
   "outputs": [],
   "source": []
  }
 ],
 "metadata": {
  "kernelspec": {
   "display_name": "Python 3 (ipykernel)",
   "language": "python",
   "name": "python3"
  },
  "language_info": {
   "codemirror_mode": {
    "name": "ipython",
    "version": 3
   },
   "file_extension": ".py",
   "mimetype": "text/x-python",
   "name": "python",
   "nbconvert_exporter": "python",
   "pygments_lexer": "ipython3",
   "version": "3.10.13"
  }
 },
 "nbformat": 4,
 "nbformat_minor": 5
}
