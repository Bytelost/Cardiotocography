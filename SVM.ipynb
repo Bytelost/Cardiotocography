{
 "cells": [
  {
   "cell_type": "markdown",
   "id": "22999068",
   "metadata": {},
   "source": [
    "## Importa as Bibliotacas e Database"
   ]
  },
  {
   "cell_type": "code",
   "execution_count": null,
   "id": "311ba3b9-2c47-4eec-b502-565aeb92f2bf",
   "metadata": {},
   "outputs": [],
   "source": [
    "# Chama as bibliotecas\n",
    "import sklearn as sk\n",
    "import numpy as np\n",
    "import pandas as pd\n",
    "import matplotlib.pyplot as ptl\n",
    "\n",
    "# Carrega a base de dados\n",
    "data = pd.read_csv(\"CTG.csv\")\n",
    "\n",
    "# Eliminando colunas que não serão utilizadas\n",
    "data = data.drop(data.columns[0], axis=1)\n",
    "\n",
    "data.head()"
   ]
  },
  {
   "cell_type": "markdown",
   "id": "5ee3116d",
   "metadata": {},
   "source": [
    "## Cria o Data Frame"
   ]
  },
  {
   "cell_type": "code",
   "execution_count": null,
   "id": "a3111113",
   "metadata": {},
   "outputs": [],
   "source": [
    "df_data = pd.DataFrame(data)\n",
    "df_data = df_data.drop(columns=[\"NSP\"])\n",
    "df_data.info()"
   ]
  },
  {
   "cell_type": "markdown",
   "id": "4c238168",
   "metadata": {},
   "source": [
    "# Separa o Dataframe para Treino, Teste e Validação"
   ]
  },
  {
   "cell_type": "code",
   "execution_count": null,
   "id": "a82515ab",
   "metadata": {},
   "outputs": [],
   "source": [
    "from sklearn.model_selection import train_test_split\n",
    "\n",
    "# Separa os dados em treino, teste e validação\n",
    "x_train, x_temp, y_train, y_temp = train_test_split(df_data, data[\"NSP\"], test_size=0.5, random_state=42)\n",
    "x_validation, x_test, y_validation, y_test = train_test_split(x_temp, y_temp, test_size=0.5, random_state=42)"
   ]
  },
  {
   "cell_type": "markdown",
   "id": "7f142ddf",
   "metadata": {},
   "source": [
    "## Encontra o Melhor Modelo"
   ]
  },
  {
   "cell_type": "code",
   "execution_count": null,
   "id": "a41f9e19",
   "metadata": {},
   "outputs": [],
   "source": [
    "from sklearn.svm import SVC\n",
    "\n",
    "score = []\n",
    "model_name = []\n",
    "highest = -1\n",
    "\n",
    "# Criando e testando os modelol\n",
    "for i in('linear', 'poly', 'rbf', 'sigmoid', 'precomputed'):\n",
    "    for j in range(1, 100):\n",
    "        SVM = SVC(kernel=i, C=j)\n",
    "        SVM.fit(x_train, y_train)\n",
    "        pred = SVM.predict(x_validation)\n",
    "        acc = sk.metrics.accuracy_score(y_validation, pred)\n",
    "        \n",
    "        # Salva o melhor modelo\n",
    "        if acc > highest:\n",
    "            name = \"SVM \" + i + \" \" + str(j)\n",
    "            best_kernel = i\n",
    "            best_c = j\n",
    "            highest = acc\n",
    "            \n",
    "        # Salva o score dos modelos\n",
    "        score.append(acc)\n",
    "        model_name.append(\"SVM \" + i + \" \" + str(j))\n",
    "        \n"
   ]
  },
  {
   "cell_type": "markdown",
   "id": "5aa7980a",
   "metadata": {},
   "source": [
    "## Plota a Acuracia de Cada Modelo"
   ]
  },
  {
   "cell_type": "code",
   "execution_count": null,
   "id": "03a2466a",
   "metadata": {},
   "outputs": [],
   "source": [
    "# Grafio do score de cada modelo\n",
    "ptl.figure(figsize=(11,7))\n",
    "ptl.plot(range(len(model_name)), score, color='blue', linestyle='dashed', marker='o')\n",
    "ptl.xlabel('Modelo')\n",
    "ptl.ylabel('Accuracy')\n",
    "\n",
    "# Mostra a melhor configuração\n",
    "print(\"Name:\", name, \" Score:\", highest)"
   ]
  }
 ],
 "metadata": {
  "kernelspec": {
   "display_name": "Python 3 (ipykernel)",
   "language": "python",
   "name": "python3"
  },
  "language_info": {
   "codemirror_mode": {
    "name": "ipython",
    "version": 3
   },
   "file_extension": ".py",
   "mimetype": "text/x-python",
   "name": "python",
   "nbconvert_exporter": "python",
   "pygments_lexer": "ipython3",
   "version": "3.10.13"
  }
 },
 "nbformat": 4,
 "nbformat_minor": 5
}
