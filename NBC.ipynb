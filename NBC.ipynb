{
 "cells": [
  {
   "cell_type": "markdown",
   "id": "7b53274f",
   "metadata": {},
   "source": [
    "## Importa as Bibliotecas e a Base de Dados"
   ]
  },
  {
   "cell_type": "code",
   "execution_count": null,
   "id": "7293e889",
   "metadata": {},
   "outputs": [],
   "source": [
    "# Importa as bibliotecas necessárias\n",
    "import pandas as pd\n",
    "import sklearn as sk\n",
    "import matplotlib.pyplot as ptl\n",
    "\n",
    "# Importa a Base de Dados\n",
    "data = pd.read_csv('CTG.csv')\n",
    "\n",
    "# Eliminando colunas que não serão utilizadas\n",
    "data = data.drop(data.columns[0], axis=1)\n",
    "\n",
    "data.head()"
   ]
  },
  {
   "cell_type": "markdown",
   "id": "48d115a8",
   "metadata": {},
   "source": [
    "## Cria do Dataframe"
   ]
  },
  {
   "cell_type": "code",
   "execution_count": null,
   "id": "1639d378",
   "metadata": {},
   "outputs": [],
   "source": [
    "df_data = pd.DataFrame(data)\n",
    "df_data.info()"
   ]
  },
  {
   "cell_type": "markdown",
   "id": "38894763",
   "metadata": {},
   "source": [
    "## Cria o Dataset de Treino"
   ]
  },
  {
   "cell_type": "code",
   "execution_count": null,
   "id": "6c84cd35",
   "metadata": {},
   "outputs": [],
   "source": [
    "from sklearn.model_selection import train_test_split\n",
    "\n",
    "# Separa os dados em treino, teste e validação\n",
    "x_train, x_temp, y_train, y_temp = train_test_split(df_data, data[\"NSP\"], test_size=0.5, stratify=data[\"NSP\"])\n",
    "x_validation, x_test, y_validation, y_test = train_test_split(x_temp, y_temp, test_size=0.5)"
   ]
  },
  {
   "cell_type": "code",
   "execution_count": null,
   "id": "0735c62c",
   "metadata": {},
   "outputs": [],
   "source": [
    "from sklearn.naive_bayes import GaussianNB\n",
    "from sklearn.metrics import accuracy_score\n",
    "from sklearn.metrics import confusion_matrix\n",
    "from sklearn.metrics import classification_report\n",
    "\n",
    "NB = GaussianNB()\n",
    "NB.fit(x_train, y_train)\n",
    "pred = NB.predict(x_validation)\n",
    "print(\"Acurácia:\", accuracy_score(y_validation, pred))\n",
    "print(\"Relatório de Classificação:\\n\", classification_report(y_validation, pred))\n",
    "print(\"Matriz de Confusão:\\n\", confusion_matrix(y_validation, pred))\n"
   ]
  }
 ],
 "metadata": {
  "kernelspec": {
   "display_name": "Python 3 (ipykernel)",
   "language": "python",
   "name": "python3"
  },
  "language_info": {
   "codemirror_mode": {
    "name": "ipython",
    "version": 3
   },
   "file_extension": ".py",
   "mimetype": "text/x-python",
   "name": "python",
   "nbconvert_exporter": "python",
   "pygments_lexer": "ipython3",
   "version": "3.10.13"
  }
 },
 "nbformat": 4,
 "nbformat_minor": 5
}
