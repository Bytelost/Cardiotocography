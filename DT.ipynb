{
 "cells": [
  {
   "cell_type": "markdown",
   "id": "c77cba53",
   "metadata": {},
   "source": [
    "## Importa as Bibliotecas e a Base de Dados"
   ]
  },
  {
   "cell_type": "code",
   "execution_count": 20,
   "id": "0a31e785-2951-4f93-bf4f-685f6c70aa12",
   "metadata": {},
   "outputs": [
    {
     "data": {
      "text/html": [
       "<div>\n",
       "<style scoped>\n",
       "    .dataframe tbody tr th:only-of-type {\n",
       "        vertical-align: middle;\n",
       "    }\n",
       "\n",
       "    .dataframe tbody tr th {\n",
       "        vertical-align: top;\n",
       "    }\n",
       "\n",
       "    .dataframe thead th {\n",
       "        text-align: right;\n",
       "    }\n",
       "</style>\n",
       "<table border=\"1\" class=\"dataframe\">\n",
       "  <thead>\n",
       "    <tr style=\"text-align: right;\">\n",
       "      <th></th>\n",
       "      <th>LB</th>\n",
       "      <th>AC</th>\n",
       "      <th>FM</th>\n",
       "      <th>UC</th>\n",
       "      <th>ASTV</th>\n",
       "      <th>MSTV</th>\n",
       "      <th>ALTV</th>\n",
       "      <th>MLTV</th>\n",
       "      <th>DL</th>\n",
       "      <th>DS</th>\n",
       "      <th>...</th>\n",
       "      <th>Min</th>\n",
       "      <th>Max</th>\n",
       "      <th>Nmax</th>\n",
       "      <th>Nzeros</th>\n",
       "      <th>Mode</th>\n",
       "      <th>Mean</th>\n",
       "      <th>Median</th>\n",
       "      <th>Variance</th>\n",
       "      <th>Tendency</th>\n",
       "      <th>NSP</th>\n",
       "    </tr>\n",
       "  </thead>\n",
       "  <tbody>\n",
       "    <tr>\n",
       "      <th>0</th>\n",
       "      <td>120</td>\n",
       "      <td>0</td>\n",
       "      <td>0</td>\n",
       "      <td>0</td>\n",
       "      <td>73</td>\n",
       "      <td>0.5</td>\n",
       "      <td>43</td>\n",
       "      <td>2.4</td>\n",
       "      <td>0</td>\n",
       "      <td>0</td>\n",
       "      <td>...</td>\n",
       "      <td>62</td>\n",
       "      <td>126</td>\n",
       "      <td>2</td>\n",
       "      <td>0</td>\n",
       "      <td>120</td>\n",
       "      <td>137</td>\n",
       "      <td>121</td>\n",
       "      <td>73</td>\n",
       "      <td>1</td>\n",
       "      <td>2</td>\n",
       "    </tr>\n",
       "    <tr>\n",
       "      <th>1</th>\n",
       "      <td>132</td>\n",
       "      <td>4</td>\n",
       "      <td>0</td>\n",
       "      <td>4</td>\n",
       "      <td>17</td>\n",
       "      <td>2.1</td>\n",
       "      <td>0</td>\n",
       "      <td>10.4</td>\n",
       "      <td>2</td>\n",
       "      <td>0</td>\n",
       "      <td>...</td>\n",
       "      <td>68</td>\n",
       "      <td>198</td>\n",
       "      <td>6</td>\n",
       "      <td>1</td>\n",
       "      <td>141</td>\n",
       "      <td>136</td>\n",
       "      <td>140</td>\n",
       "      <td>12</td>\n",
       "      <td>0</td>\n",
       "      <td>1</td>\n",
       "    </tr>\n",
       "    <tr>\n",
       "      <th>2</th>\n",
       "      <td>133</td>\n",
       "      <td>2</td>\n",
       "      <td>0</td>\n",
       "      <td>5</td>\n",
       "      <td>16</td>\n",
       "      <td>2.1</td>\n",
       "      <td>0</td>\n",
       "      <td>13.4</td>\n",
       "      <td>2</td>\n",
       "      <td>0</td>\n",
       "      <td>...</td>\n",
       "      <td>68</td>\n",
       "      <td>198</td>\n",
       "      <td>5</td>\n",
       "      <td>1</td>\n",
       "      <td>141</td>\n",
       "      <td>135</td>\n",
       "      <td>138</td>\n",
       "      <td>13</td>\n",
       "      <td>0</td>\n",
       "      <td>1</td>\n",
       "    </tr>\n",
       "    <tr>\n",
       "      <th>3</th>\n",
       "      <td>134</td>\n",
       "      <td>2</td>\n",
       "      <td>0</td>\n",
       "      <td>6</td>\n",
       "      <td>16</td>\n",
       "      <td>2.4</td>\n",
       "      <td>0</td>\n",
       "      <td>23.0</td>\n",
       "      <td>2</td>\n",
       "      <td>0</td>\n",
       "      <td>...</td>\n",
       "      <td>53</td>\n",
       "      <td>170</td>\n",
       "      <td>11</td>\n",
       "      <td>0</td>\n",
       "      <td>137</td>\n",
       "      <td>134</td>\n",
       "      <td>137</td>\n",
       "      <td>13</td>\n",
       "      <td>1</td>\n",
       "      <td>1</td>\n",
       "    </tr>\n",
       "    <tr>\n",
       "      <th>4</th>\n",
       "      <td>132</td>\n",
       "      <td>4</td>\n",
       "      <td>0</td>\n",
       "      <td>5</td>\n",
       "      <td>16</td>\n",
       "      <td>2.4</td>\n",
       "      <td>0</td>\n",
       "      <td>19.9</td>\n",
       "      <td>0</td>\n",
       "      <td>0</td>\n",
       "      <td>...</td>\n",
       "      <td>53</td>\n",
       "      <td>170</td>\n",
       "      <td>9</td>\n",
       "      <td>0</td>\n",
       "      <td>137</td>\n",
       "      <td>136</td>\n",
       "      <td>138</td>\n",
       "      <td>11</td>\n",
       "      <td>1</td>\n",
       "      <td>1</td>\n",
       "    </tr>\n",
       "  </tbody>\n",
       "</table>\n",
       "<p>5 rows × 22 columns</p>\n",
       "</div>"
      ],
      "text/plain": [
       "    LB  AC  FM  UC  ASTV  MSTV  ALTV  MLTV  DL  DS  ...  Min  Max  Nmax  \\\n",
       "0  120   0   0   0    73   0.5    43   2.4   0   0  ...   62  126     2   \n",
       "1  132   4   0   4    17   2.1     0  10.4   2   0  ...   68  198     6   \n",
       "2  133   2   0   5    16   2.1     0  13.4   2   0  ...   68  198     5   \n",
       "3  134   2   0   6    16   2.4     0  23.0   2   0  ...   53  170    11   \n",
       "4  132   4   0   5    16   2.4     0  19.9   0   0  ...   53  170     9   \n",
       "\n",
       "   Nzeros  Mode  Mean  Median  Variance  Tendency  NSP  \n",
       "0       0   120   137     121        73         1    2  \n",
       "1       1   141   136     140        12         0    1  \n",
       "2       1   141   135     138        13         0    1  \n",
       "3       0   137   134     137        13         1    1  \n",
       "4       0   137   136     138        11         1    1  \n",
       "\n",
       "[5 rows x 22 columns]"
      ]
     },
     "execution_count": 20,
     "metadata": {},
     "output_type": "execute_result"
    }
   ],
   "source": [
    "# Importa as bibliotecas necessárias\n",
    "import pandas as pd\n",
    "import sklearn as sk\n",
    "import matplotlib.pyplot as ptl\n",
    "\n",
    "# Importa a Base de Dados\n",
    "data = pd.read_csv('CTG.csv')\n",
    "\n",
    "# Eliminando colunas que não serão utilizadas\n",
    "data = data.drop(data.columns[0], axis=1)\n",
    "\n",
    "data.head()"
   ]
  },
  {
   "cell_type": "markdown",
   "id": "e0fc0987",
   "metadata": {},
   "source": [
    "## Cria o Dataframe"
   ]
  },
  {
   "cell_type": "code",
   "execution_count": 21,
   "id": "af75abd1",
   "metadata": {},
   "outputs": [
    {
     "name": "stdout",
     "output_type": "stream",
     "text": [
      "<class 'pandas.core.frame.DataFrame'>\n",
      "RangeIndex: 2126 entries, 0 to 2125\n",
      "Data columns (total 22 columns):\n",
      " #   Column    Non-Null Count  Dtype  \n",
      "---  ------    --------------  -----  \n",
      " 0   LB        2126 non-null   int64  \n",
      " 1   AC        2126 non-null   int64  \n",
      " 2   FM        2126 non-null   int64  \n",
      " 3   UC        2126 non-null   int64  \n",
      " 4   ASTV      2126 non-null   int64  \n",
      " 5   MSTV      2126 non-null   float64\n",
      " 6   ALTV      2126 non-null   int64  \n",
      " 7   MLTV      2126 non-null   float64\n",
      " 8   DL        2126 non-null   int64  \n",
      " 9   DS        2126 non-null   int64  \n",
      " 10  DP        2126 non-null   int64  \n",
      " 11  Width     2126 non-null   int64  \n",
      " 12  Min       2126 non-null   int64  \n",
      " 13  Max       2126 non-null   int64  \n",
      " 14  Nmax      2126 non-null   int64  \n",
      " 15  Nzeros    2126 non-null   int64  \n",
      " 16  Mode      2126 non-null   int64  \n",
      " 17  Mean      2126 non-null   int64  \n",
      " 18  Median    2126 non-null   int64  \n",
      " 19  Variance  2126 non-null   int64  \n",
      " 20  Tendency  2126 non-null   int64  \n",
      " 21  NSP       2126 non-null   int64  \n",
      "dtypes: float64(2), int64(20)\n",
      "memory usage: 365.5 KB\n"
     ]
    }
   ],
   "source": [
    "df_data = pd.DataFrame(data)\n",
    "df_data.info()"
   ]
  },
  {
   "cell_type": "markdown",
   "id": "f8f5ccd2",
   "metadata": {},
   "source": [
    "## Cria o Datraset de Treino"
   ]
  },
  {
   "cell_type": "code",
   "execution_count": 22,
   "id": "e71df5ba",
   "metadata": {},
   "outputs": [],
   "source": [
    "from sklearn.model_selection import train_test_split\n",
    "\n",
    "# Separa os dados em treino, teste e validação\n",
    "x_train, x_temp, y_train, y_temp = train_test_split(df_data, data[\"NSP\"], test_size=0.5, stratify=data[\"NSP\"])\n",
    "x_validation, x_test, y_validation, y_test = train_test_split(x_temp, y_temp, test_size=0.5)"
   ]
  },
  {
   "cell_type": "markdown",
   "id": "028625d1",
   "metadata": {},
   "source": [
    "## Encontra a Melhor Configuração"
   ]
  },
  {
   "cell_type": "code",
   "execution_count": 23,
   "id": "f3fffa73",
   "metadata": {},
   "outputs": [
    {
     "name": "stdout",
     "output_type": "stream",
     "text": [
      "Modelo 0  Melhor Critério: gini  Melhor Divisão: best  Melhor Profundidade: 5  Melhor Número de Folhas: 2\n"
     ]
    }
   ],
   "source": [
    "from sklearn.tree import DecisionTreeClassifier\n",
    "from sklearn.metrics import accuracy_score\n",
    "higher_acc = -1\n",
    "cout = 0\n",
    "models_acc = []\n",
    "\n",
    "# Melhor critério\n",
    "for i in (\"gini\", \"entropy\"):\n",
    "    # Melhor divisão\n",
    "    for j in (\"best\", \"random\"):\n",
    "        # Melhor profundidade\n",
    "        for k in range(5, 21):\n",
    "            # Melhor número de folhas\n",
    "            for l in range(2, 20):\n",
    "                DT = DecisionTreeClassifier(criterion=i, splitter=j, max_depth=k, min_samples_leaf=l)\n",
    "                DT.fit(x_train, y_train)\n",
    "                pred = DT.predict(x_validation)\n",
    "                \n",
    "                # Encontra o melhor modelo\n",
    "                if accuracy_score(y_validation, pred) > higher_acc:\n",
    "                    higher_acc = accuracy_score(y_validation, pred)\n",
    "                    best_criterion = i\n",
    "                    best_splitter = j\n",
    "                    best_depth = k\n",
    "                    best_leaf = l\n",
    "                    model_name = cout\n",
    "            \n",
    "                # Mostra os modelos que estão sendo testados\n",
    "                #print(\"Modelo:\", cout, \" Critério:\", i, \" Divisão:\", j, \" Profundidade:\", k, \" Número de Folhas:\", l, \" Acurácia:\", accuracy_score(y_validation, pred))\n",
    "                \n",
    "                # Armazena a acurácia de cada modelo\n",
    "                models_acc.append(accuracy_score(y_validation, pred))\n",
    "                cout += 1\n",
    "                \n",
    "\n",
    "# Mostra a melhor configuração\n",
    "print(\"Modelo\", model_name, \" Melhor Critério:\", best_criterion, \" Melhor Divisão:\", best_splitter, \" Melhor Profundidade:\", best_depth, \" Melhor Número de Folhas:\", best_leaf)"
   ]
  },
  {
   "cell_type": "code",
   "execution_count": 24,
   "id": "0b1c7aed",
   "metadata": {},
   "outputs": [
    {
     "data": {
      "text/plain": [
       "Text(0, 0.5, 'Accuracy')"
      ]
     },
     "execution_count": 24,
     "metadata": {},
     "output_type": "execute_result"
    },
    {
     "data": {
      "image/png": "[encoded data removed]",
      "text/plain": [
       "<Figure size 1100x700 with 1 Axes>"
      ]
     },
     "metadata": {},
     "output_type": "display_data"
    }
   ],
   "source": [
    "ptl.figure (figsize=(11,7))\n",
    "ptl.plot(range(cout), models_acc, color='blue', linestyle='dashed', marker='o')\n",
    "ptl.xlabel('Modelo')\n",
    "ptl.ylabel('Accuracy')"
   ]
  },
  {
   "cell_type": "markdown",
   "id": "b1809aa3",
   "metadata": {},
   "source": [
    "## Executa o Melhor Modelo"
   ]
  },
  {
   "cell_type": "code",
   "execution_count": 25,
   "id": "c91baf5e",
   "metadata": {},
   "outputs": [
    {
     "name": "stdout",
     "output_type": "stream",
     "text": [
      "Acurácia: 1.0\n",
      "[[412   0   0]\n",
      " [  0  79   0]\n",
      " [  0   0  40]]\n"
     ]
    }
   ],
   "source": [
    "from sklearn.metrics import confusion_matrix\n",
    "\n",
    "# Cria a árvore de decisão\n",
    "B_DT = DecisionTreeClassifier(criterion='gini', splitter='best', max_depth=5, min_samples_leaf=2)\n",
    "B_DT.fit(x_train, y_train)\n",
    "pred = B_DT.predict(x_validation)\n",
    "print(\"Acurácia:\", accuracy_score(y_validation, pred))\n",
    "print(confusion_matrix(y_validation, pred))"
   ]
  },
  {
   "cell_type": "code",
   "execution_count": null,
   "id": "7690c710",
   "metadata": {},
   "outputs": [],
   "source": []
  }
 ],
 "metadata": {
  "kernelspec": {
   "display_name": "Python 3 (ipykernel)",
   "language": "python",
   "name": "python3"
  },
  "language_info": {
   "codemirror_mode": {
    "name": "ipython",
    "version": 3
   },
   "file_extension": ".py",
   "mimetype": "text/x-python",
   "name": "python",
   "nbconvert_exporter": "python",
   "pygments_lexer": "ipython3",
   "version": "3.10.13"
  }
 },
 "nbformat": 4,
 "nbformat_minor": 5
}
