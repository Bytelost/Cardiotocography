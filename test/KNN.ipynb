{
 "cells": [
  {
   "cell_type": "markdown",
   "id": "ff06bd7f",
   "metadata": {},
   "source": [
    "## Import Libraries and Database"
   ]
  },
  {
   "cell_type": "code",
   "execution_count": null,
   "id": "ed3f043a-19be-43fc-b008-0b559bf97ce7",
   "metadata": {},
   "outputs": [],
   "source": [
    "# Call the libraries\n",
    "import sklearn as sk\n",
    "import numpy as np\n",
    "import pandas as pd\n",
    "import matplotlib.pyplot as ptl\n",
    "\n",
    "# Load the database\n",
    "data = pd.read_csv(\"CTG.csv\")\n",
    "\n",
    "# Delete the first column\n",
    "data = data.drop(data.columns[0], axis=1)\n",
    "\n",
    "data.head()"
   ]
  },
  {
   "cell_type": "markdown",
   "id": "ecf11067",
   "metadata": {},
   "source": [
    "## Create the Dataframe"
   ]
  },
  {
   "cell_type": "code",
   "execution_count": null,
   "id": "db4ed3e3",
   "metadata": {},
   "outputs": [],
   "source": [
    "df_data = pd.DataFrame(data)\n",
    "df_data = df_data.drop(columns=[\"NSP\"])\n",
    "df_data.info()"
   ]
  },
  {
   "cell_type": "markdown",
   "id": "798af3df",
   "metadata": {},
   "source": [
    "## Separate the Dataframe for Training, Testing and Validation"
   ]
  },
  {
   "cell_type": "code",
   "execution_count": null,
   "id": "48a3ec2d",
   "metadata": {},
   "outputs": [],
   "source": [
    "from sklearn.model_selection import train_test_split\n",
    "\n",
    "# Separate 50% of the data for training\n",
    "x_train, x_temp, y_train, y_temp = train_test_split(df_data, data[\"NSP\"], test_size=0.5, random_state=42)\n",
    "\n",
    "# Separate 25% of the data for validation and 25% for testing\n",
    "x_validation, x_test, y_validation, y_test = train_test_split(x_temp, y_temp, test_size=0.5, random_state=42)\n",
    "\n",
    "# Convert the data into numpy arrays\n",
    "x_validation = np.ascontiguousarray(x_validation)"
   ]
  },
  {
   "cell_type": "markdown",
   "id": "419c0c32",
   "metadata": {},
   "source": [
    "## Find the Best Model"
   ]
  },
  {
   "cell_type": "code",
   "execution_count": null,
   "id": "f62f5ccf",
   "metadata": {},
   "outputs": [],
   "source": [
    "from sklearn.neighbors import KNeighborsClassifier\n",
    "from sklearn.metrics import accuracy_score\n",
    "\n",
    "higher = -1\n",
    "model_score = []\n",
    "\n",
    "# Test the KNN with different K and metrics\n",
    "for i in (\"distance\", \"uniform\"):\n",
    "    for j in range(1, 100):\n",
    "        KNN = KNeighborsClassifier(n_neighbors=j, weights=i)\n",
    "        KNN.fit(x_train, y_train)\n",
    "        pred = KNN.predict(x_validation)\n",
    "        \n",
    "        # Save the best model\n",
    "        if accuracy_score(y_validation, pred) > higher:\n",
    "            best_model = KNN\n",
    "            best_k = j\n",
    "            best_w = i\n",
    "            higher = accuracy_score(y_validation, pred)\n",
    "\n",
    "        # Save the accuracy of each model\n",
    "        model_score.append(accuracy_score(y_validation, pred))"
   ]
  },
  {
   "cell_type": "markdown",
   "id": "c9ce68c2",
   "metadata": {},
   "source": [
    "## Plot the Accuracy of Each Model"
   ]
  },
  {
   "cell_type": "code",
   "execution_count": null,
   "id": "a9e3da26",
   "metadata": {},
   "outputs": [],
   "source": [
    "# Graph the accuracy of each model\n",
    "ptl.figure (figsize=(11,7))\n",
    "ptl.plot(range(len(model_score)), model_score, color='blue', linestyle='dashed', marker='o')\n",
    "ptl.xlabel('Modelo')\n",
    "ptl.ylabel('Accuracy')\n",
    "\n",
    "# Show the best configuration\n",
    "print(\"K:\", best_k,\" Métrica:\", best_w,\" Acc:\", higher)"
   ]
  },
  {
   "cell_type": "markdown",
   "id": "c7054b7c",
   "metadata": {},
   "source": [
    "## Test The Best Model"
   ]
  },
  {
   "cell_type": "code",
   "execution_count": null,
   "id": "34ab280c",
   "metadata": {},
   "outputs": [],
   "source": [
    "from sklearn.metrics import confusion_matrix\n",
    "\n",
    "pred = best_model.predict(x_test)\n",
    "accuracy_score = accuracy_score(y_test, pred)\n",
    "print(\"Accuracy:\", accuracy_score)\n",
    "confusion_matrix(y_test, pred)\n"
   ]
  },
  {
   "cell_type": "code",
   "execution_count": null,
   "id": "a71725c8",
   "metadata": {},
   "outputs": [],
   "source": []
  }
 ],
 "metadata": {
  "kernelspec": {
   "display_name": "Python 3 (ipykernel)",
   "language": "python",
   "name": "python3"
  },
  "language_info": {
   "codemirror_mode": {
    "name": "ipython",
    "version": 3
   },
   "file_extension": ".py",
   "mimetype": "text/x-python",
   "name": "python",
   "nbconvert_exporter": "python",
   "pygments_lexer": "ipython3",
   "version": "3.10.13"
  }
 },
 "nbformat": 4,
 "nbformat_minor": 5
}
